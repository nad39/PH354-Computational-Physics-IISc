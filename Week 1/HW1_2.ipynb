{
 "cells": [
  {
   "cell_type": "markdown",
   "metadata": {},
   "source": [
    "Created on Wed 24th Feb 2021 16:26\n",
    "\n",
    "@author: Drishika Nadella\n"
   ]
  },
  {
   "cell_type": "code",
   "execution_count": 25,
   "metadata": {},
   "outputs": [],
   "source": [
    "import numpy as np"
   ]
  },
  {
   "cell_type": "code",
   "execution_count": 26,
   "metadata": {},
   "outputs": [],
   "source": [
    "def orbit(T):\n",
    "    \"\"\"\n",
    "    This function calculates the orbit of a satellite (r - R) given its time period T.\n",
    "    \"\"\"\n",
    "    G = 6.67*10**(-11)\n",
    "    M = 5.972*10**24\n",
    "    R = 6371*10**3\n",
    "    \n",
    "    r = (G*M*T**2/(4*np.pi**2))**(1/3)\n",
    "    return r-R"
   ]
  },
  {
   "cell_type": "code",
   "execution_count": 27,
   "metadata": {},
   "outputs": [
    {
     "name": "stdout",
     "output_type": "stream",
     "text": [
      "Enter the time period of the satellite in minutes: 45\n",
      "The height of the satellite is -2181.092 km\n"
     ]
    }
   ],
   "source": [
    "period = input(\"Enter the time period of the satellite in minutes: \")\n",
    "h = orbit(int(period)*60)*10**(-3)\n",
    "print(\"The height of the satellite is %7.3f km\"% (h))"
   ]
  },
  {
   "cell_type": "markdown",
   "metadata": {},
   "source": [
    "### For a geosynchronous satellite:\n",
    "\n",
    "Enter the time period of the satellite in minutes: 1440\n",
    "\n",
    "The height of the satellite is 35860.625 km"
   ]
  },
  {
   "cell_type": "markdown",
   "metadata": {},
   "source": [
    "### For a satellite with time period 90 minutes:\n",
    "\n",
    "Enter the time period of the satellite in minutes: 90\n",
    "\n",
    "The height of the satellite is 280.064 km"
   ]
  },
  {
   "cell_type": "markdown",
   "metadata": {},
   "source": [
    "### For a satellite with time period 45 minutes: \n",
    "\n",
    "Enter the time period of the satellite in minutes: 45\n",
    "\n",
    "The height of the satellite is -2181.092 km\n",
    "\n",
    "The answer is in negatives because 45 minutes is too small a period for a satellite to orbit. The minimum height for a satellite is 100 km, called the Karman line."
   ]
  },
  {
   "cell_type": "markdown",
   "metadata": {},
   "source": [
    "### Question 2c\n",
    "\n",
    "A sidereal day is about 4 minutes lesser than a normal solar day because a sidereal day is the time required for the Earth to complete one rotation with respect to fixed stars."
   ]
  },
  {
   "cell_type": "code",
   "execution_count": 29,
   "metadata": {},
   "outputs": [
    {
     "name": "stdout",
     "output_type": "stream",
     "text": [
      "The height difference between a satellite placed in the geostationary orbit to the sidereal orbit is: 5.36\n"
     ]
    }
   ],
   "source": [
    "h_geo = orbit(24*60)*10**(-3)\n",
    "h_sid = orbit(23.93*60)*10**(-3)\n",
    "print(\"The height difference between a satellite placed in the geostationary orbit to the sidereal orbit is: %3.2f\"% (h_geo - h_sid))"
   ]
  },
  {
   "cell_type": "code",
   "execution_count": null,
   "metadata": {},
   "outputs": [],
   "source": []
  }
 ],
 "metadata": {
  "kernelspec": {
   "display_name": "Python 3",
   "language": "python",
   "name": "python3"
  },
  "language_info": {
   "codemirror_mode": {
    "name": "ipython",
    "version": 3
   },
   "file_extension": ".py",
   "mimetype": "text/x-python",
   "name": "python",
   "nbconvert_exporter": "python",
   "pygments_lexer": "ipython3",
   "version": "3.7.6"
  }
 },
 "nbformat": 4,
 "nbformat_minor": 4
}
